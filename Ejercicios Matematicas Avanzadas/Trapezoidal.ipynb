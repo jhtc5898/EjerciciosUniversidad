{
 "cells": [
  {
   "cell_type": "markdown",
   "id": "2660f799",
   "metadata": {},
   "source": [
    "# Regla del Trapecio\n"
   ]
  },
  {
   "cell_type": "markdown",
   "id": "ad5d95f7",
   "metadata": {},
   "source": [
    "Es un metodo de integracion numerica, permite calcular  aproximadamente el valor de la integral definida.(ESTA ES LA SUMA DE LAS AREAS DE LOS TRAPECIOS)"
   ]
  },
  {
   "cell_type": "markdown",
   "id": "4b9403c0",
   "metadata": {},
   "source": [
    "# <img src=https://upload.wikimedia.org/wikipedia/commons/d/dd/Trapezoidal_rule_illustration.png width=\"200\">"
   ]
  },
  {
   "cell_type": "markdown",
   "id": "5a5ca1bb",
   "metadata": {},
   "source": [
    "La funcion f(x)(azul) es aproximadamente por la funcion lineal(Rojo)"
   ]
  },
  {
   "cell_type": "markdown",
   "id": "60636e68",
   "metadata": {},
   "source": [
    "\n",
    "La regla se basa en aproximar el valor de la integral de f(x) por el de la función lineal que pasa a través de los puntos\n",
    "(a, f(a)) y (b, f(b)). La integral de ésta es igual al área del trapecio bajo la gráfica de la función lineal."
   ]
  },
  {
   "cell_type": "markdown",
   "id": "6f5d37ba",
   "metadata": {},
   "source": [
    "<img src=\"regla.png\">"
   ]
  },
  {
   "cell_type": "markdown",
   "id": "2b51ac1f",
   "metadata": {},
   "source": [
    "La integración numérica con la regla del trapecio usa un polinomio de primer grado.\n",
    "\n",
    "Es la primera de las formulas cerradas de Newton-Cotes"
   ]
  },
  {
   "cell_type": "markdown",
   "id": "2da69007",
   "metadata": {},
   "source": [
    " <img src=\"primera.png\">"
   ]
  },
  {
   "cell_type": "markdown",
   "id": "32e80063",
   "metadata": {},
   "source": [
    "usando el rango entre [a,b] el polinomio se aproxima con una línea recta:"
   ]
  },
  {
   "cell_type": "markdown",
   "id": "18a4025c",
   "metadata": {},
   "source": [
    " <img src=\"segunda.png\">"
   ]
  },
  {
   "cell_type": "markdown",
   "id": "55f2403a",
   "metadata": {},
   "source": [
    "el área bajo esta línea recta es una aproximación de la integral de f(x) entre los límites a y b.\n",
    "\n",
    "El resultado del integral es la regla del trapecio:"
   ]
  },
  {
   "cell_type": "markdown",
   "id": "2abc549a",
   "metadata": {},
   "source": [
    "<img src=\"tercera.png\">"
   ]
  },
  {
   "cell_type": "markdown",
   "id": "53e5dbee",
   "metadata": {},
   "source": [
    "# Algoritmo"
   ]
  },
  {
   "cell_type": "markdown",
   "id": "2b24fd14",
   "metadata": {},
   "source": [
    "Importamos las librerias\n",
    "\n",
    "Numpy: Es la libreria que nos permitira realizar el calculo numerico especializado.Ya que python por si solo no realiza este procedimiento\n",
    "    \n",
    "matplotlib.pyplot: Es la libreria que utilizaremos con el fin de realizar el grafico de los trapecios bajo lal curva.\n",
    "\n",
    "math: Importamos math a fin de obtener los valores especializados estos son e(euler)"
   ]
  },
  {
   "cell_type": "code",
   "execution_count": 1,
   "id": "3f6b156b",
   "metadata": {},
   "outputs": [],
   "source": [
    "import numpy as np\n",
    "import matplotlib.pyplot as plt\n",
    "from math import e #Definimos euler con la variable e"
   ]
  },
  {
   "cell_type": "markdown",
   "id": "f81b7218",
   "metadata": {},
   "source": [
    "Generamos un lamba ya que la funcion sera un procedimiento repetitivos durante el desarrollo de la formula. \n",
    "En este ejemplo se usa la funcion:"
   ]
  },
  {
   "cell_type": "markdown",
   "id": "f1b752aa",
   "metadata": {},
   "source": [
    "<img src=\"funcion.png\">"
   ]
  },
  {
   "cell_type": "code",
   "execution_count": 8,
   "id": "906c345a",
   "metadata": {},
   "outputs": [],
   "source": [
    "# INGRESO\n",
    "fx = lambda x: e**(x**2)"
   ]
  },
  {
   "cell_type": "markdown",
   "id": "8c48984a",
   "metadata": {},
   "source": [
    "Ahora definiremos en que intervalo de integracion"
   ]
  },
  {
   "cell_type": "markdown",
   "id": "0601ad85",
   "metadata": {},
   "source": [
    "<img src=\"ejercicio.png\">"
   ]
  },
  {
   "cell_type": "markdown",
   "id": "c07c4e86",
   "metadata": {},
   "source": [
    "Como se puede observar tenemos el intervalo de a=2 y b = 2 "
   ]
  },
  {
   "cell_type": "markdown",
   "id": "1baaaba7",
   "metadata": {},
   "source": [
    "Ya que conocemos todos los valores de la integracion nos falta definir el paso que va tener por lo cual realizamos (b-a)/tramos \n",
    "\n",
    "\n",
    "Los tramos son los trapecios que se generan en el area bajo la curva.\n"
   ]
  },
  {
   "cell_type": "markdown",
   "id": "56c3c6f3",
   "metadata": {},
   "source": [
    "Ahora que ya conocemos la funcion,el intervalo y los tramos realizamos el uso de la formula del trapecio"
   ]
  },
  {
   "cell_type": "markdown",
   "id": "ae06216a",
   "metadata": {},
   "source": [
    "<img src=\"formula.png\">"
   ]
  },
  {
   "cell_type": "markdown",
   "id": "17b97cfb",
   "metadata": {},
   "source": [
    " El resultado obtenido es:"
   ]
  },
  {
   "cell_type": "markdown",
   "id": "eb256226",
   "metadata": {},
   "source": [
    " <img src=\"resultado.png\">"
   ]
  },
  {
   "cell_type": "markdown",
   "id": "e439761a",
   "metadata": {},
   "source": [
    "# Algoritmo completo"
   ]
  },
  {
   "cell_type": "code",
   "execution_count": 17,
   "id": "1b56ea36",
   "metadata": {},
   "outputs": [
    {
     "name": "stdout",
     "output_type": "stream",
     "text": [
      "Base:  0.004\n",
      "tramos:  500\n",
      "Integral:  14.6766513005709\n"
     ]
    }
   ],
   "source": [
    "# Integración: Regla de los trapecios\n",
    "# Usando una función fx()\n",
    "import numpy as np\n",
    "import matplotlib.pyplot as plt\n",
    "from math import e\n",
    "\n",
    "# INGRESO\n",
    "fx = lambda x: e**x/x\n",
    "\n",
    "# intervalo de integración\n",
    "a = 2\n",
    "b = 4\n",
    "\n",
    "tramos = 500\n",
    "\n",
    "# PROCEDIMIENTO\n",
    "# Regla del Trapecio\n",
    "# Usando tramos equidistantes en intervalo\n",
    "h = (b-a)/tramos\n",
    "print(\"Base: \",h) #Cantidad de saltos \n",
    "xi = a\n",
    "suma = fx(xi)\n",
    "for i in range(0,tramos-1,1):\n",
    "    xi = xi + h\n",
    "    suma = suma + 2*fx(xi)\n",
    "suma = suma + fx(b)\n",
    "area = h*(suma/2)\n",
    "\n",
    "# SALIDA\n",
    "print('tramos: ', tramos)\n",
    "print('Integral: ', area)"
   ]
  },
  {
   "cell_type": "markdown",
   "id": "eb6e62fe",
   "metadata": {},
   "source": [
    "# Graficar Resultado"
   ]
  },
  {
   "cell_type": "code",
   "execution_count": 18,
   "id": "ee557dcf",
   "metadata": {},
   "outputs": [
    {
     "data": {
      "image/png": "[encoded data removed]",
      "text/plain": [
       "<Figure size 720x720 with 1 Axes>"
      ]
     },
     "metadata": {
      "needs_background": "light"
     },
     "output_type": "display_data"
    }
   ],
   "source": [
    "# GRAFICA\n",
    "# Puntos de muestra\n",
    "muestras = tramos + 1\n",
    "xi = np.linspace(a,b,muestras)\n",
    "fi = fx(xi)\n",
    "# Linea suave\n",
    "muestraslinea = tramos*10 + 1\n",
    "xk = np.linspace(a,b,muestraslinea)\n",
    "fk = fx(xk)\n",
    "\n",
    "# Graficando\n",
    "plt.figure(figsize=(10,10))\n",
    "plt.plot(xk,fk, label ='f(x)')\n",
    "plt.plot(xi,fi, marker='o',\n",
    "         color='orange', label ='muestras')\n",
    "\n",
    "plt.xlabel('x')\n",
    "plt.ylabel('f(x)')\n",
    "plt.title('Integral: Regla de Trapecios')Graficar Resultado\n",
    "plt.legend()\n",
    "\n",
    "# Trapecios\n",
    "plt.fill_between(xi,0,fi, color='g')\n",
    "for i in range(0,muestras,1):\n",
    "    plt.axvline(xi[i], color='w')\n",
    "\n",
    "plt.show()"
   ]
  },
  {
   "cell_type": "code",
   "execution_count": null,
   "id": "ff0cdcf6",
   "metadata": {},
   "outputs": [],
   "source": []
  },
  {
   "cell_type": "code",
   "execution_count": null,
   "id": "364ee432",
   "metadata": {},
   "outputs": [],
   "source": []
  },
  {
   "cell_type": "code",
   "execution_count": null,
   "id": "8096be3b",
   "metadata": {},
   "outputs": [],
   "source": []
  },
  {
   "cell_type": "code",
   "execution_count": null,
   "id": "4d88ad04",
   "metadata": {},
   "outputs": [],
   "source": []
  }
 ],
 "metadata": {
  "kernelspec": {
   "display_name": "Python 3 (ipykernel)",
   "language": "python",
   "name": "python3"
  },
  "language_info": {
   "codemirror_mode": {
    "name": "ipython",
    "version": 3
   },
   "file_extension": ".py",
   "mimetype": "text/x-python",
   "name": "python",
   "nbconvert_exporter": "python",
   "pygments_lexer": "ipython3",
   "version": "3.9.7"
  }
 },
 "nbformat": 4,
 "nbformat_minor": 5
}
